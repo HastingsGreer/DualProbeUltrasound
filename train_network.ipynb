{
 "cells": [
  {
   "cell_type": "code",
   "execution_count": 11,
   "metadata": {},
   "outputs": [],
   "source": [
    "import os\n",
    "import pickle\n",
    "import numpy as np\n",
    "import tensorflow.keras as keras\n",
    "data_dir = \"prepped_data/train_set/\""
   ]
  },
  {
   "cell_type": "code",
   "execution_count": 12,
   "metadata": {},
   "outputs": [],
   "source": [
    "names = os.listdir(data_dir)\n"
   ]
  },
  {
   "cell_type": "code",
   "execution_count": 35,
   "metadata": {},
   "outputs": [],
   "source": []
  },
  {
   "cell_type": "code",
   "execution_count": 38,
   "metadata": {},
   "outputs": [
    {
     "data": {
      "text/plain": [
       "(2048, 12)"
      ]
     },
     "execution_count": 38,
     "metadata": {},
     "output_type": "execute_result"
    }
   ],
   "source": [
    "classes.shape"
   ]
  },
  {
   "cell_type": "code",
   "execution_count": 49,
   "metadata": {},
   "outputs": [],
   "source": [
    "from tensorflow.keras import Sequential\n",
    "from tensorflow.keras.layers import Conv2D, MaxPooling2D, Flatten, Dense, Dropout\n",
    "from tensorflow.keras.optimizers import Adam"
   ]
  },
  {
   "cell_type": "code",
   "execution_count": 52,
   "metadata": {},
   "outputs": [
    {
     "name": "stdout",
     "output_type": "stream",
     "text": [
      "Model: \"sequential_6\"\n",
      "_________________________________________________________________\n",
      "Layer (type)                 Output Shape              Param #   \n",
      "=================================================================\n",
      "conv2d_25 (Conv2D)           (None, 126, 126, 32)      1184      \n",
      "_________________________________________________________________\n",
      "max_pooling2d_15 (MaxPooling (None, 63, 63, 32)        0         \n",
      "_________________________________________________________________\n",
      "conv2d_26 (Conv2D)           (None, 61, 61, 64)        18496     \n",
      "_________________________________________________________________\n",
      "max_pooling2d_16 (MaxPooling (None, 30, 30, 64)        0         \n",
      "_________________________________________________________________\n",
      "conv2d_27 (Conv2D)           (None, 28, 28, 64)        36928     \n",
      "_________________________________________________________________\n",
      "max_pooling2d_17 (MaxPooling (None, 14, 14, 64)        0         \n",
      "_________________________________________________________________\n",
      "conv2d_28 (Conv2D)           (None, 12, 12, 128)       73856     \n",
      "_________________________________________________________________\n",
      "conv2d_29 (Conv2D)           (None, 10, 10, 256)       295168    \n",
      "_________________________________________________________________\n",
      "flatten_5 (Flatten)          (None, 25600)             0         \n",
      "_________________________________________________________________\n",
      "dense_15 (Dense)             (None, 512)               13107712  \n",
      "_________________________________________________________________\n",
      "dropout_10 (Dropout)         (None, 512)               0         \n",
      "_________________________________________________________________\n",
      "dense_16 (Dense)             (None, 512)               262656    \n",
      "_________________________________________________________________\n",
      "dropout_11 (Dropout)         (None, 512)               0         \n",
      "_________________________________________________________________\n",
      "dense_17 (Dense)             (None, 12)                6156      \n",
      "=================================================================\n",
      "Total params: 13,802,156\n",
      "Trainable params: 13,802,156\n",
      "Non-trainable params: 0\n",
      "_________________________________________________________________\n"
     ]
    }
   ],
   "source": [
    "model = Sequential()\n",
    "model.add(Conv2D(32, (3, 3), activation='relu', \n",
    "                 input_shape=(128, 128, 4)\n",
    "                 \n",
    "                ))\n",
    "\n",
    "model.add(MaxPooling2D(pool_size=(2, 2)))\n",
    "model.add(Conv2D(64, (3, 3), activation='relu'))\n",
    "\n",
    "model.add(MaxPooling2D(pool_size=(2, 2)))\n",
    "model.add(Conv2D(64, (3, 3), activation='relu'))\n",
    "model.add(MaxPooling2D(pool_size=(2, 2)))\n",
    "model.add(Conv2D(128, (3, 3), activation='relu'))\n",
    "#model.add(MaxPooling2D(pool_size=(2, 2)))              \n",
    "model.add(Conv2D(256, (3, 3), activation='relu'))\n",
    "model.add(Flatten())\n",
    "model.add(Dense(512, activation='relu'))\n",
    "model.add(Dropout(.5))\n",
    "model.add(Dense(512, activation='relu'))\n",
    "model.add(Dropout(.5))\n",
    "model.add(Dense(12))\n",
    "\n",
    "model.summary()\n",
    "\n",
    "model.compile(loss=keras.losses.mean_squared_error,\n",
    "              optimizer=Adam(lr=.001))\n",
    "\n",
    "\n"
   ]
  },
  {
   "cell_type": "code",
   "execution_count": null,
   "metadata": {},
   "outputs": [
    {
     "name": "stdout",
     "output_type": "stream",
     "text": [
      "Epoch 1/5\n",
      "2048/2048 [==============================] - 40s 20ms/sample - loss: 0.7970\n",
      "Epoch 2/5\n",
      "2048/2048 [==============================] - 29s 14ms/sample - loss: 0.3985\n",
      "Epoch 3/5\n",
      "2048/2048 [==============================] - 29s 14ms/sample - loss: 0.3504\n",
      "Epoch 4/5\n",
      "2048/2048 [==============================] - 37s 18ms/sample - loss: 0.3409\n",
      "Epoch 5/5\n",
      "1600/2048 [======================>.......] - ETA: 8s - loss: 0.3322 "
     ]
    }
   ],
   "source": [
    "name = names[0]\n",
    "\n",
    "def load_dataset(name):\n",
    "    with open(data_dir + name, \"rb\") as f:\n",
    "        dataset = pickle.load(f)\n",
    "\n",
    "    data = []\n",
    "    classes = []\n",
    "    for elem in dataset:\n",
    "        data_entry = np.array(np.stack(elem[\"data\"], axis=-1), dtype=np.float32)\n",
    "        data_entry += 1000\n",
    "        data_entry /= 2000\n",
    "        data.append(data_entry)\n",
    "\n",
    "        class_entry = elem[\"classes\"]\n",
    "        class_entry = np.concatenate([class_entry[0] / 9, class_entry[1].flatten()])\n",
    "        classes.append(class_entry)\n",
    "    data = np.array(data)\n",
    "    classes = np.array(classes)\n",
    "    return data, classes\n"
   ]
  },
  {
   "cell_type": "code",
   "execution_count": null,
   "metadata": {},
   "outputs": [],
   "source": [
    "for _ in range(20):\n",
    "    print(\"===========\")\n",
    "    for name in names:\n",
    "        data, classes = load_dataset(name)\n",
    "        loss_curve = model.fit(data, \n",
    "              classes,\n",
    "              batch_size=200,\n",
    "              epochs=5,\n",
    "              verbose=1)\n",
    "              #validation_data=(testdata, testclasses))"
   ]
  }
 ],
 "metadata": {
  "kernelspec": {
   "display_name": "Python 3",
   "language": "python",
   "name": "python3"
  },
  "language_info": {
   "codemirror_mode": {
    "name": "ipython",
    "version": 3
   },
   "file_extension": ".py",
   "mimetype": "text/x-python",
   "name": "python",
   "nbconvert_exporter": "python",
   "pygments_lexer": "ipython3",
   "version": "3.7.4"
  }
 },
 "nbformat": 4,
 "nbformat_minor": 4
}
